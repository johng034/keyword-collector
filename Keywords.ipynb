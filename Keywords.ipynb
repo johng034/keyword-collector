{
 "cells": [
  {
   "cell_type": "code",
   "execution_count": 1,
   "metadata": {},
   "outputs": [],
   "source": [
    "from sklearn.feature_extraction.text import CountVectorizer\n",
    "import pandas as pd\n",
    "import re\n",
    "import nltk\n",
    "import pickle"
   ]
  },
  {
   "cell_type": "markdown",
   "metadata": {},
   "source": [
    "# Phase 1\n",
    "- Get text from the job description\n",
    "    - Clean the text (remove special characters, remove whitespace)"
   ]
  },
  {
   "cell_type": "code",
   "execution_count": 2,
   "metadata": {},
   "outputs": [
    {
     "name": "stdout",
     "output_type": "stream",
     "text": [
      "Please copy and paste the job description below:\n"
     ]
    }
   ],
   "source": [
    "print('Please copy and paste the job description below:')\n",
    "job_description = input()"
   ]
  },
  {
   "cell_type": "code",
   "execution_count": 3,
   "metadata": {},
   "outputs": [
    {
     "name": "stdout",
     "output_type": "stream",
     "text": [
      "We are looking for data analysts to join the efforts driving monetization, - Apply expertise in data analysis and visualization to see beyond the numbers and understand how our users interact with our ads products. - Deliver data support for both short term and long term business development plans from strategic scope and execution aspects with in-depths analysis. - Work closely with key cross functional teams such as operations, product managers, data science, and engineers to solve business problems. - Build/maintain reports, dashboards, and metrics to monitor the performance of business products. Qualifications - Bachelor's degree with a background in Math, Economics, Computer Science, Statistics, or other quantitative fields; - Expert experience pulling large and complex data using SQL and writing data pipelines. - Experience with a data visualization tool (e.g. Tableau); - Excellent verbal and written English communication skills; - Experience doing quantitative analysis; Prefer to Have - Experience with A/B testing and/or ML/statistical modeling - Development experience in at least one scripting language (PHP, Python, Perl, etc.); - Experience with large data sets and distributed computing (Hive/Hadoop)\n"
     ]
    }
   ],
   "source": [
    "print(job_description)"
   ]
  },
  {
   "cell_type": "code",
   "execution_count": 4,
   "metadata": {},
   "outputs": [],
   "source": [
    "def clean_text(text):\n",
    "    text = re.sub('\\n', ' ', text)  # Remove '\\n'\n",
    "    text = text.strip()  # Remove whitespaces\n",
    "    text = text.lower()  # Lowercase all the text\n",
    "    text = re.sub(\"'\", '', text)  # Remove ' with no spaces (e.g., they're -> theyre)\n",
    "    text = re.sub(\",\", '', text)  # Remove , with no spaces (e.g., 10,000 -> 10000)\n",
    "    text = re.sub(\"etc\", '', text)  # Remove , with no spaces (e.g., 10,000 -> 10000)\n",
    "    text = re.sub('[^A-Za-z0-9]+', ' ', text)  # Remove special characters\n",
    "    text = text.strip()  # Remove any final whitespaces\n",
    "    return text"
   ]
  },
  {
   "cell_type": "code",
   "execution_count": 5,
   "metadata": {},
   "outputs": [
    {
     "data": {
      "text/plain": [
       "'we are looking for data analysts to join the efforts driving monetization apply expertise in data analysis and visualization to see beyond the numbers and understand how our users interact with our ads products deliver data support for both short term and long term business development plans from strategic scope and execution aspects with in depths analysis work closely with key cross functional teams such as operations product managers data science and engineers to solve business problems build maintain reports dashboards and metrics to monitor the performance of business products qualifications bachelors degree with a background in math economics computer science statistics or other quantitative fields expert experience pulling large and complex data using sql and writing data pipelines experience with a data visualization tool e g tableau excellent verbal and written english communication skills experience doing quantitative analysis prefer to have experience with a b testing and or ml statistical modeling development experience in at least one scripting language php python perl experience with large data sets and distributed computing hive hadoop'"
      ]
     },
     "execution_count": 5,
     "metadata": {},
     "output_type": "execute_result"
    }
   ],
   "source": [
    "job_description_cleaned = clean_text(job_description)\n",
    "\n",
    "job_description_cleaned"
   ]
  },
  {
   "cell_type": "markdown",
   "metadata": {},
   "source": [
    "## Remove Stopwords"
   ]
  },
  {
   "cell_type": "code",
   "execution_count": 6,
   "metadata": {},
   "outputs": [],
   "source": [
    "# Download stopwords from NLTK\n",
    "# nltk.download(\"stopwords\")\n",
    "stopwords = nltk.corpus.stopwords.words('english')\n",
    "\n",
    "# Save stopwords to a file\n",
    "with open('stopwords', 'wb') as file:\n",
    "    pickle.dump(stopwords, file)"
   ]
  },
  {
   "cell_type": "code",
   "execution_count": 7,
   "metadata": {},
   "outputs": [],
   "source": [
    "def remove_stopwords(text):\n",
    "    stopwords = nltk.corpus.stopwords.words('english')\n",
    "    text = text.split()\n",
    "    stopwords_removed = [word for word in text if word not in stopwords]\n",
    "    return stopwords_removed"
   ]
  },
  {
   "cell_type": "code",
   "execution_count": 8,
   "metadata": {},
   "outputs": [
    {
     "data": {
      "text/plain": [
       "['looking', 'data', 'analysts', 'join', 'efforts']"
      ]
     },
     "execution_count": 8,
     "metadata": {},
     "output_type": "execute_result"
    }
   ],
   "source": [
    "word_list = remove_stopwords(job_description_cleaned)\n",
    "\n",
    "word_list[:5]"
   ]
  },
  {
   "cell_type": "markdown",
   "metadata": {},
   "source": [
    "## Identify the most common words"
   ]
  },
  {
   "cell_type": "code",
   "execution_count": 9,
   "metadata": {},
   "outputs": [],
   "source": [
    "vectorizer = CountVectorizer()\n",
    "\n",
    "X = vectorizer.fit_transform(word_list)"
   ]
  },
  {
   "cell_type": "code",
   "execution_count": 10,
   "metadata": {},
   "outputs": [],
   "source": [
    "# Create a DataFrame \n",
    "df = pd.DataFrame(data=X.toarray(), columns=vectorizer.get_feature_names_out())\n",
    "\n",
    "# Sort the values\n",
    "words = df.sum(axis=0).sort_values(ascending=False)"
   ]
  },
  {
   "cell_type": "code",
   "execution_count": 11,
   "metadata": {},
   "outputs": [
    {
     "data": {
      "text/plain": [
       "data              8\n",
       "experience        6\n",
       "analysis          3\n",
       "business          3\n",
       "science           2\n",
       "visualization     2\n",
       "quantitative      2\n",
       "development       2\n",
       "term              2\n",
       "large             2\n",
       "products          2\n",
       "reports           1\n",
       "qualifications    1\n",
       "python            1\n",
       "pulling           1\n",
       "product           1\n",
       "ads               1\n",
       "problems          1\n",
       "prefer            1\n",
       "scope             1\n",
       "pipelines         1\n",
       "php               1\n",
       "perl              1\n",
       "performance       1\n",
       "operations        1\n",
       "dtype: int64"
      ]
     },
     "execution_count": 11,
     "metadata": {},
     "output_type": "execute_result"
    }
   ],
   "source": [
    "words[:25]"
   ]
  },
  {
   "cell_type": "code",
   "execution_count": null,
   "metadata": {},
   "outputs": [],
   "source": []
  }
 ],
 "metadata": {
  "kernelspec": {
   "display_name": "Python 3.9.7 64-bit (system)",
   "language": "python",
   "name": "python3"
  },
  "language_info": {
   "codemirror_mode": {
    "name": "ipython",
    "version": 3
   },
   "file_extension": ".py",
   "mimetype": "text/x-python",
   "name": "python",
   "nbconvert_exporter": "python",
   "pygments_lexer": "ipython3",
   "version": "3.9.12"
  },
  "vscode": {
   "interpreter": {
    "hash": "205bca04fd76860a73df986a4e9afb63718ca8c70e5f17e596ddc09fe7f7eb59"
   }
  }
 },
 "nbformat": 4,
 "nbformat_minor": 2
}
