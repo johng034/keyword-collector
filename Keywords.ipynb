{
 "cells": [
  {
   "cell_type": "code",
   "execution_count": 1,
   "metadata": {},
   "outputs": [],
   "source": [
    "from sklearn.feature_extraction.text import CountVectorizer\n",
    "import pandas as pd\n",
    "import re\n",
    "import nltk"
   ]
  },
  {
   "cell_type": "markdown",
   "metadata": {},
   "source": [
    "# Phase 1\n",
    "- Get text from the job description\n",
    "    - Clean the text (remove special characters, remove whitespace)"
   ]
  },
  {
   "cell_type": "code",
   "execution_count": 2,
   "metadata": {},
   "outputs": [
    {
     "name": "stdout",
     "output_type": "stream",
     "text": [
      "Please copy and paste the job description below:\n",
      "We are searching for a hands-on Digital Marketing Analyst with strong analytical skills and a desire and aptitude to build meaningful cross-functional relationships to fill a crucial role inside Patagonia’s Digital team. This role will evaluate the efficacy of paid media and retention channels, understand the impact of category and brand campaigns, and provide strategic recommendations for how to improve marketing performance. In this role, you will deliver accurate and actionable insights across Patagonia’s diverse commercial and brand marketing efforts.  What You’ll Do  Measure the effectiveness of paid media and retention channels including SEM, paid social, programmatic display and video, email, and affiliate marketing; report daily, weekly and monthly to internal teams Consistently monitor and evaluate performance of key campaigns to ensure KPIs are met and support ongoing campaign improvements across all digital marketing channels Create ad, ad group, and campaign-level ad-hoc reports and visualizations, telling a story about what worked, what did not work, and why Apply data and analytical techniques (e.g. A/B testing, multivariate testing) necessary to conduct channel-specific marketing analyses Scope, implement, and QA onsite tracking solutions for outbound digital media campaigns Clean, transform, and ensure accuracy of large digital data sets, using data flows and automations where needed Provide strategic recommendations for distribution of spend, digital media strategy, and creative strategy based on findings  Who You Are  You have a passion for measurement and digital marketing, and enjoy using data and your analytical abilities to solve problems and make decisions You are comfortable with ambiguity and can translate unclear requests into actionable next steps You have experience socializing analyses and findings with both technical and non-technical audiences You have demonstrated the ability to build strong relationships across teams You are proactive in seeking out resources to learn and build upon your knowledge of everchanging digital data and marketing techniques and best practices You have strong attention to detail and organization, someone who sees high levels of data accuracy as their responsibility  Experience You Bring 3+ years’ experience in online marketing and/or digital analytics, either in-house or at an agency Experienced in analyzing and visualizing data from performance marketing channels, including SEM, paid social, display and video, affiliate, and retention channels; solid understanding of how channels work together Strong background in analytics / statistics with experience extracting and transforming large quantities of digital data quickly (e.g. from ESPs, site analytics tools, ad UIs) Experienced in using site analytics tools like Adobe Analytics (preferred) or Google Analytics Experienced in implementing tracking solutions via tracking tags and pixels, including ongoing maintenance in tag management tools Preferred: Retail / eCommerce analytics experience Experience using SQL to analyze large datasets Experience using Tableau to build visualizations Experience using JavaScript for digital tracking technologies Some knowledge of digital marketing measurement solutions (e.g. MMM, MTA)\n"
     ]
    }
   ],
   "source": [
    "print('Please copy and paste the job description below:')\n",
    "job_description = input()"
   ]
  },
  {
   "cell_type": "code",
   "execution_count": 3,
   "metadata": {},
   "outputs": [
    {
     "name": "stdout",
     "output_type": "stream",
     "text": [
      "We are searching for a hands-on Digital Marketing Analyst with strong analytical skills and a desire and aptitude to build meaningful cross-functional relationships to fill a crucial role inside Patagonia’s Digital team. This role will evaluate the efficacy of paid media and retention channels, understand the impact of category and brand campaigns, and provide strategic recommendations for how to improve marketing performance. In this role, you will deliver accurate and actionable insights across Patagonia’s diverse commercial and brand marketing efforts.  What You’ll Do  Measure the effectiveness of paid media and retention channels including SEM, paid social, programmatic display and video, email, and affiliate marketing; report daily, weekly and monthly to internal teams Consistently monitor and evaluate performance of key campaigns to ensure KPIs are met and support ongoing campaign improvements across all digital marketing channels Create ad, ad group, and campaign-level ad-hoc reports and visualizations, telling a story about what worked, what did not work, and why Apply data and analytical techniques (e.g. A/B testing, multivariate testing) necessary to conduct channel-specific marketing analyses Scope, implement, and QA onsite tracking solutions for outbound digital media campaigns Clean, transform, and ensure accuracy of large digital data sets, using data flows and automations where needed Provide strategic recommendations for distribution of spend, digital media strategy, and creative strategy based on findings  Who You Are  You have a passion for measurement and digital marketing, and enjoy using data and your analytical abilities to solve problems and make decisions You are comfortable with ambiguity and can translate unclear requests into actionable next steps You have experience socializing analyses and findings with both technical and non-technical audiences You have demonstrated the ability to build strong relationships across teams You are proactive in seeking out resources to learn and build upon your knowledge of everchanging digital data and marketing techniques and best practices You have strong attention to detail and organization, someone who sees high levels of data accuracy as their responsibility  Experience You Bring 3+ years’ experience in online marketing and/or digital analytics, either in-house or at an agency Experienced in analyzing and visualizing data from performance marketing channels, including SEM, paid social, display and video, affiliate, and retention channels; solid understanding of how channels work together Strong background in analytics / statistics with experience extracting and transforming large quantities of digital data quickly (e.g. from ESPs, site analytics tools, ad UIs) Experienced in using site analytics tools like Adobe Analytics (preferred) or Google Analytics Experienced in implementing tracking solutions via tracking tags and pixels, including ongoing maintenance in tag management tools Preferred: Retail / eCommerce analytics experience Experience using SQL to analyze large datasets Experience using Tableau to build visualizations Experience using JavaScript for digital tracking technologies Some knowledge of digital marketing measurement solutions (e.g. MMM, MTA)\n"
     ]
    }
   ],
   "source": [
    "print(job_description)"
   ]
  },
  {
   "cell_type": "code",
   "execution_count": 4,
   "metadata": {},
   "outputs": [],
   "source": [
    "def clean_text(text):\n",
    "    text = re.sub('\\n', ' ', text)  # Remove '\\n'\n",
    "    text = text.strip()  # Remove whitespaces\n",
    "    text = text.lower()  # Lowercase all the text\n",
    "    text = re.sub(\"'\", '', text)  # Remove ' with no spaces (e.g., they're -> theyre)\n",
    "    text = re.sub(\",\", '', text)  # Remove , with no spaces (e.g., 10,000 -> 10000)\n",
    "    text = re.sub(\"etc\", '', text)  # Remove , with no spaces (e.g., 10,000 -> 10000)\n",
    "    text = re.sub('[^A-Za-z0-9]+', ' ', text)  # Remove special characters\n",
    "    text = text.strip()  # Remove any final whitespaces\n",
    "    return text"
   ]
  },
  {
   "cell_type": "code",
   "execution_count": 5,
   "metadata": {},
   "outputs": [
    {
     "data": {
      "text/plain": [
       "'we are searching for a hands on digital marketing analyst with strong analytical skills and a desire and aptitude to build meaningful cross functional relationships to fill a crucial role inside patagonia s digital team this role will evaluate the efficacy of paid media and retention channels understand the impact of category and brand campaigns and provide strategic recommendations for how to improve marketing performance in this role you will deliver accurate and actionable insights across patagonia s diverse commercial and brand marketing efforts what you ll do measure the effectiveness of paid media and retention channels including sem paid social programmatic display and video email and affiliate marketing report daily weekly and monthly to internal teams consistently monitor and evaluate performance of key campaigns to ensure kpis are met and support ongoing campaign improvements across all digital marketing channels create ad ad group and campaign level ad hoc reports and visualizations telling a story about what worked what did not work and why apply data and analytical techniques e g a b testing multivariate testing necessary to conduct channel specific marketing analyses scope implement and qa onsite tracking solutions for outbound digital media campaigns clean transform and ensure accuracy of large digital data sets using data flows and automations where needed provide strategic recommendations for distribution of spend digital media strategy and creative strategy based on findings who you are you have a passion for measurement and digital marketing and enjoy using data and your analytical abilities to solve problems and make decisions you are comfortable with ambiguity and can translate unclear requests into actionable next steps you have experience socializing analyses and findings with both technical and non technical audiences you have demonstrated the ability to build strong relationships across teams you are proactive in seeking out resources to learn and build upon your knowledge of everchanging digital data and marketing techniques and best practices you have strong attention to detail and organization someone who sees high levels of data accuracy as their responsibility experience you bring 3 years experience in online marketing and or digital analytics either in house or at an agency experienced in analyzing and visualizing data from performance marketing channels including sem paid social display and video affiliate and retention channels solid understanding of how channels work together strong background in analytics statistics with experience extracting and transforming large quantities of digital data quickly e g from esps site analytics tools ad uis experienced in using site analytics tools like adobe analytics preferred or google analytics experienced in implementing tracking solutions via tracking tags and pixels including ongoing maintenance in tag management tools preferred retail ecommerce analytics experience experience using sql to analyze large datasets experience using tableau to build visualizations experience using javascript for digital tracking technologies some knowledge of digital marketing measurement solutions e g mmm mta'"
      ]
     },
     "execution_count": 5,
     "metadata": {},
     "output_type": "execute_result"
    }
   ],
   "source": [
    "job_description_cleaned = clean_text(job_description)\n",
    "\n",
    "job_description_cleaned"
   ]
  },
  {
   "cell_type": "markdown",
   "metadata": {},
   "source": [
    "## Remove Stopwords"
   ]
  },
  {
   "cell_type": "code",
   "execution_count": 6,
   "metadata": {},
   "outputs": [],
   "source": [
    "# Download stopwords from NLTK\n",
    "# nltk.download(\"stopwords\")"
   ]
  },
  {
   "cell_type": "code",
   "execution_count": 7,
   "metadata": {},
   "outputs": [],
   "source": [
    "def remove_stopwords(text):\n",
    "    stopwords = nltk.corpus.stopwords.words('english')\n",
    "    text = text.split()\n",
    "    stopwords_removed = [word for word in text if word not in stopwords]\n",
    "    return stopwords_removed"
   ]
  },
  {
   "cell_type": "code",
   "execution_count": 8,
   "metadata": {},
   "outputs": [
    {
     "data": {
      "text/plain": [
       "['searching', 'hands', 'digital', 'marketing', 'analyst']"
      ]
     },
     "execution_count": 8,
     "metadata": {},
     "output_type": "execute_result"
    }
   ],
   "source": [
    "word_list = remove_stopwords(job_description_cleaned)\n",
    "\n",
    "word_list[:5]"
   ]
  },
  {
   "cell_type": "markdown",
   "metadata": {},
   "source": [
    "## Identify the most common words"
   ]
  },
  {
   "cell_type": "code",
   "execution_count": 9,
   "metadata": {},
   "outputs": [],
   "source": [
    "vectorizer = CountVectorizer()\n",
    "\n",
    "X = vectorizer.fit_transform(word_list)"
   ]
  },
  {
   "cell_type": "code",
   "execution_count": 10,
   "metadata": {},
   "outputs": [],
   "source": [
    "# Create a DataFrame \n",
    "df = pd.DataFrame(data=X.toarray(), columns=vectorizer.get_feature_names_out())\n",
    "\n",
    "# Sort the values\n",
    "words = df.sum(axis=0).sort_values(ascending=False)"
   ]
  },
  {
   "cell_type": "code",
   "execution_count": 11,
   "metadata": {},
   "outputs": [
    {
     "data": {
      "text/plain": [
       "digital        12\n",
       "marketing      11\n",
       "data            8\n",
       "experience      8\n",
       "analytics       7\n",
       "channels        6\n",
       "using           6\n",
       "build           4\n",
       "strong          4\n",
       "media           4\n",
       "tracking        4\n",
       "paid            4\n",
       "ad              4\n",
       "analytical      3\n",
       "including       3\n",
       "solutions       3\n",
       "campaigns       3\n",
       "experienced     3\n",
       "large           3\n",
       "performance     3\n",
       "across          3\n",
       "retention       3\n",
       "role            3\n",
       "tools           3\n",
       "ongoing         2\n",
       "dtype: int64"
      ]
     },
     "execution_count": 11,
     "metadata": {},
     "output_type": "execute_result"
    }
   ],
   "source": [
    "words[:25]"
   ]
  },
  {
   "cell_type": "code",
   "execution_count": null,
   "metadata": {},
   "outputs": [],
   "source": []
  }
 ],
 "metadata": {
  "kernelspec": {
   "display_name": "Python 3.9.7 64-bit (system)",
   "language": "python",
   "name": "python3"
  },
  "language_info": {
   "codemirror_mode": {
    "name": "ipython",
    "version": 3
   },
   "file_extension": ".py",
   "mimetype": "text/x-python",
   "name": "python",
   "nbconvert_exporter": "python",
   "pygments_lexer": "ipython3",
   "version": "3.9.7"
  },
  "vscode": {
   "interpreter": {
    "hash": "205bca04fd76860a73df986a4e9afb63718ca8c70e5f17e596ddc09fe7f7eb59"
   }
  }
 },
 "nbformat": 4,
 "nbformat_minor": 2
}
